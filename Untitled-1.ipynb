{
 "cells": [
  {
   "cell_type": "markdown",
   "metadata": {},
   "source": [
    " Amplitud de transición y probabilidades de estado:"
   ]
  },
  {
   "cell_type": "code",
   "execution_count": null,
   "metadata": {},
   "outputs": [],
   "source": [
    "import numpy as np\n",
    "\n",
    "# Función para calcular la probabilidad de encontrar el sistema en una posición\n",
    "def calcular_probabilidad(ket, pos):\n",
    "    return np.abs(ket[pos])**2\n",
    "\n",
    "# Función para calcular la probabilidad de transición entre dos estados\n",
    "def amplitud_transicion(ket1, ket2):\n",
    "    amplitud = np.dot(np.conjugate(ket1), ket2)\n",
    "    return np.abs(amplitud)**2\n",
    "\n",
    "# Ejemplo\n",
    "ket1 = np.array([1/np.sqrt(2), 1/np.sqrt(2)])  # Ejemplo de un ket normalizado\n",
    "ket2 = np.array([0, 1])  # Otro estado ket\n",
    "posicion = 1\n",
    "\n",
    "probabilidad = calcular_probabilidad(ket1, posicion)\n",
    "prob_transicion = amplitud_transicion(ket1, ket2)\n",
    "\n",
    "print(f\"Probabilidad de encontrar la partícula en la posición {posicion}: {probabilidad}\")\n",
    "print(f\"Probabilidad de transición de ket1 a ket2: {prob_transicion}\")\n"
   ]
  },
  {
   "cell_type": "markdown",
   "metadata": {},
   "source": [
    "Observables y matriz Hermitiana"
   ]
  },
  {
   "cell_type": "code",
   "execution_count": null,
   "metadata": {},
   "outputs": [],
   "source": [
    "import numpy as np\n",
    "\n",
    "# Función para verificar si una matriz es Hermitiana\n",
    "def es_hermitiana(matriz):\n",
    "    return np.allclose(matriz, np.conjugate(matriz.T))\n",
    "\n",
    "# Función para calcular la media del observable\n",
    "def calcular_media(observable, ket):\n",
    "    return np.real(np.dot(np.conjugate(ket).T, np.dot(observable, ket)))\n",
    "\n",
    "# Función para calcular la varianza del observable\n",
    "def calcular_varianza(observable, ket):\n",
    "    media = calcular_media(observable, ket)\n",
    "    observable2 = np.dot(observable, observable)\n",
    "    media2 = np.real(np.dot(np.conjugate(ket).T, np.dot(observable2, ket)))\n",
    "    return media2 - media**2\n",
    "\n",
    "# Ejemplo de un observable Hermitiano\n",
    "observable = np.array([[0, 1], [1, 0]])\n",
    "\n",
    "if es_hermitiana(observable):\n",
    "    media = calcular_media(observable, ket1)\n",
    "    varianza = calcular_varianza(observable, ket1)\n",
    "    print(f\"Media: {media}, Varianza: {varianza}\")\n",
    "else:\n",
    "    print(\"El observable no es Hermitiano.\")\n"
   ]
  },
  {
   "cell_type": "markdown",
   "metadata": {},
   "source": [
    "Dinámica del sistema cuántico"
   ]
  },
  {
   "cell_type": "code",
   "execution_count": null,
   "metadata": {},
   "outputs": [],
   "source": [
    "import numpy as np\n",
    "# Función para aplicar una secuencia de matrices unitarias\n",
    "def aplicar_dinamica(unitarias, ket_inicial):\n",
    "    ket_final = ket_inicial\n",
    "    for U in unitarias:\n",
    "        ket_final = np.dot(U, ket_final)\n",
    "    return ket_final\n",
    "\n",
    "# Ejemplo de matrices unitarias\n",
    "U1 = np.array([[0, 1], [1, 0]])  # Matriz unitaria\n",
    "U2 = np.array([[np.sqrt(2)/2, np.sqrt(2)/2], [np.sqrt(2)/2, -np.sqrt(2)/2]])  # Otra unitaria\n",
    "\n",
    "ket_inicial = np.array([1, 0])  # Estado inicial\n",
    "unitarias = [U1, U2]\n",
    "\n",
    "ket_final = aplicar_dinamica(unitarias, ket_inicial)\n",
    "print(f\"Estado final: {ket_final}\")\n"
   ]
  },
  {
   "cell_type": "markdown",
   "metadata": {},
   "source": [
    "Probabilidades de transición a vectores propios:"
   ]
  },
  {
   "cell_type": "code",
   "execution_count": null,
   "metadata": {},
   "outputs": [],
   "source": [
    "import nummpy as np\n",
    "# Función para calcular los valores propios y las probabilidades de transición\n",
    "def calcular_probabilidades_propias(observable, ket):\n",
    "    valores, eigenvectores = np.linalg.eigh(observable)\n",
    "    probabilidades = [np.abs(np.dot(np.conjugate(ket), eigenvectores[:, i]))**2 for i in range(len(valores))]\n",
    "    return valores, probabilidades\n",
    "\n",
    "# Ejemplo con un observable\n",
    "valores, probabilidades = calcular_probabilidades_propias(observable, ket1)\n",
    "print(f\"Valores propios: {valores}\")\n",
    "print(f\"Probabilidades de transición: {probabilidades}\")\n"
   ]
  },
  {
   "cell_type": "markdown",
   "metadata": {},
   "source": [
    "Ejercicio 4.3.1: Encontrar todos los posibles estados a los que puede transitar el sistema después de una medición."
   ]
  },
  {
   "cell_type": "code",
   "execution_count": null,
   "metadata": {},
   "outputs": [],
   "source": [
    "import numpy as np\n",
    "\n",
    "# Función para calcular los valores propios y las probabilidades de transición\n",
    "def calcular_probabilidades_propias(observable, ket):\n",
    "    valores, eigenvectores = np.linalg.eigh(observable)\n",
    "    probabilidades = [np.abs(np.dot(np.conjugate(ket), eigenvectores[:, i]))**2 for i in range(len(valores))]\n",
    "    return valores, probabilidades, eigenvectores\n",
    "\n",
    "# Estado inicial (puedes cambiarlo según sea necesario)\n",
    "ket_inicial = np.array([1/np.sqrt(2), 1/np.sqrt(2)])\n",
    "\n",
    "# Observable (hermitiano)\n",
    "observable = np.array([[1, 0], [0, -1]])\n",
    "\n",
    "# Cálculo de valores propios y probabilidades de transición\n",
    "valores, probabilidades, eigenvectores = calcular_probabilidades_propias(observable, ket_inicial)\n",
    "\n",
    "print(f\"Valores propios: {valores}\")\n",
    "print(f\"Probabilidades de transición: {probabilidades}\")\n",
    "print(f\"Vectores propios:\\n{eigenvectores}\")\n"
   ]
  },
  {
   "cell_type": "markdown",
   "metadata": {},
   "source": [
    "Ejercicio 4.3.2: Dibujar la distribución de probabilidades de los valores propios."
   ]
  },
  {
   "cell_type": "code",
   "execution_count": null,
   "metadata": {},
   "outputs": [],
   "source": [
    "import matplotlib.pyplot as plt\n",
    "\n",
    "# Graficar la distribución de probabilidades\n",
    "def graficar_distribucion(valores, probabilidades):\n",
    "    plt.bar(valores, probabilidades, color='blue')\n",
    "    plt.xlabel('Valores Propios')\n",
    "    plt.ylabel('Probabilidad')\n",
    "    plt.title('Distribución de Probabilidades de Valores Propios')\n",
    "    plt.show()\n",
    "\n",
    "# Usando los resultados de 4.3.1\n",
    "graficar_distribucion(valores, probabilidades)\n"
   ]
  },
  {
   "cell_type": "markdown",
   "metadata": {},
   "source": [
    "Ejercicio 4.4.1: Verificar que matrices u1 y U2 son unitarias, multiplicarlas y verificar que el producto también es unitario."
   ]
  },
  {
   "cell_type": "code",
   "execution_count": null,
   "metadata": {},
   "outputs": [],
   "source": [
    "import numpy as np\n",
    "# Función para verificar si una matriz es unitaria\n",
    "def es_unitaria(matriz):\n",
    "    return np.allclose(np.eye(len(matriz)), np.dot(matriz, np.conjugate(matriz).T))\n",
    "\n",
    "# Matrices dadas\n",
    "U1 = np.array([[0, 1], [1, 0]])\n",
    "U2 = np.array([[np.sqrt(2)/2, np.sqrt(2)/2], [np.sqrt(2)/2, -np.sqrt(2)/2]])\n",
    "\n",
    "# Verificación de que son unitarias\n",
    "print(f\"U1 es unitaria: {es_unitaria(U1)}\")\n",
    "print(f\"U2 es unitaria: {es_unitaria(U2)}\")\n",
    "\n",
    "# Producto de U1 y U2\n",
    "U_producto = np.dot(U1, U2)\n",
    "print(f\"Producto U1 * U2 es unitaria: {es_unitaria(U_producto)}\")\n"
   ]
  },
  {
   "cell_type": "markdown",
   "metadata": {},
   "source": [
    "Ejercicio 4.4.2: Determinar el estado del sistema después de tres pasos de tiempo con una nueva matriz unitaria.\n"
   ]
  },
  {
   "cell_type": "code",
   "execution_count": null,
   "metadata": {},
   "outputs": [],
   "source": [
    "import numpy as np\n",
    "# Función para aplicar una serie de matrices unitarias\n",
    "def aplicar_dinamica(unitarias, ket_inicial):\n",
    "    ket_final = ket_inicial\n",
    "    for U in unitarias:\n",
    "        ket_final = np.dot(U, ket_final)\n",
    "    return ket_final\n",
    "\n",
    "# Matriz unitaria dada\n",
    "U_dinamica = np.array([[0, np.sqrt(1/2), np.sqrt(1/2), 0],\n",
    "                       [1j/np.sqrt(2), 0, 0, np.sqrt(1/2)],\n",
    "                       [np.sqrt(1/2), -np.sqrt(1/2), 0, 0],\n",
    "                       [0, 0, np.sqrt(1/2), np.sqrt(1/2)]])\n",
    "\n",
    "# Estado inicial\n",
    "ket_inicial = np.array([1, 0, 0, 0])\n",
    "\n",
    "# Aplicar tres pasos de tiempo (matriz aplicada tres veces)\n",
    "unitarias = [U_dinamica] * 3\n",
    "ket_final = aplicar_dinamica(unitarias, ket_inicial)\n",
    "\n",
    "print(f\"Estado final después de 3 pasos: {ket_final}\")"
   ]
  },
  {
   "cell_type": "markdown",
   "metadata": {},
   "source": [
    "Ejercicio 4.5.1: Rehacer el ejemplo con coeficientes complejos iguales\n",
    "Este ejercicio trata sobre un sistema cuántico donde todos los coeficientes que describen el estado del sistema son números complejos, específicamente iguales a 1+i. Lo interesante de esto es que en los sistemas cuánticos, los números complejos juegan un papel clave, ya que sus magnitudes determinan las probabilidades de ciertos resultados cuando medimos el sistema, mientras que las fases (relacionadas con los números imaginarios) influyen en cómo interactúan y se combinan las diferentes partes del sistema.\n",
    "\n",
    "Cuando todos los coeficientes son iguales y tienen una parte imaginaria, el sistema tiene una simetría particular. Esto significa que, aunque el sistema tiene varias configuraciones posibles, la probabilidad de observar ciertas propiedades del sistema podría ser la misma en cada una de estas configuraciones. En este caso, la fase compleja introduce un aspecto de interferencia cuántica, lo que es un fenómeno único en la mecánica cuántica. A través de este ejercicio, podemos ver cómo los números complejos afectan tanto la magnitud como la dirección del estado cuántico, algo que no sucede en sistemas clásicos.\n",
    "\n",
    "Ejercicio 4.5.2: Estados de un sistema de partículas con espín\n",
    "Este ejercicio nos lleva a analizar cómo se describe un sistema cuántico formado por dos partículas con una propiedad llamada espín. Cada partícula puede estar en uno de dos estados posibles, y cuando combinamos dos de ellas, el sistema completo puede estar en una variedad de combinaciones de estos estados. La idea importante aquí es que cuando hablamos de sistemas cuánticos que involucran múltiples partículas, no solo describimos cada partícula individualmente, sino también cómo están relacionadas entre sí.\n",
    "\n",
    "Este concepto se vuelve más interesante cuando se generaliza a sistemas con más partículas. A medida que agregamos más partículas, las combinaciones posibles de estados crecen exponencialmente, lo que significa que la complejidad del sistema aumenta rápidamente. En el contexto de la computación cuántica, este crecimiento exponencial es clave, ya que es lo que permite a los computadores cuánticos procesar grandes cantidades de información de una manera que sería imposible para una computadora clásica.\n",
    "\n",
    "Entrelazamiento cuántico\n",
    "El entrelazamiento cuántico es uno de los aspectos más fascinantes de la mecánica cuántica y juega un papel central en este ejercicio. Básicamente, cuando dos partículas están entrelazadas, el estado de una partícula no puede describirse por completo sin tener en cuenta el estado de la otra, incluso si están separadas por grandes distancias. Esto significa que, si medimos una partícula, instantáneamente obtenemos información sobre la otra, lo cual desafía las nociones clásicas de localización y causalidad.\n",
    "\n",
    "Este fenómeno ha sido verificado experimentalmente y tiene implicaciones importantes para la tecnología cuántica, como el teletransporte cuántico y la criptografía cuántica. El entrelazamiento muestra que en los sistemas cuánticos, el todo es más que la suma de sus partes, y las propiedades del sistema completo no siempre pueden reducirse a las propiedades de las partículas individuales.\n",
    "\n",
    "Conclusión\n",
    "Los ejercicios 4.5.1 y 4.5.2 nos invitan a explorar los principios fundamentales de los sistemas cuánticos multipartículas. El primero nos muestra cómo los números complejos afectan la probabilidad y el comportamiento cuántico, mientras que el segundo introduce la idea de sistemas más complejos y el entrelazamiento. Estas ideas son fundamentales para entender el comportamiento de sistemas cuánticos más grandes, como los registros cuánticos en la computación cuántica, y desafían nuestra comprensión clásica de cómo funcionan los sistemas físicos."
   ]
  }
 ],
 "metadata": {
  "kernelspec": {
   "display_name": "jupyter_env",
   "language": "python",
   "name": "python3"
  },
  "language_info": {
   "codemirror_mode": {
    "name": "ipython",
    "version": 3
   },
   "file_extension": ".py",
   "mimetype": "text/x-python",
   "name": "python",
   "nbconvert_exporter": "python",
   "pygments_lexer": "ipython3",
   "version": "3.12.3"
  }
 },
 "nbformat": 4,
 "nbformat_minor": 2
}
